{
  "nbformat": 4,
  "nbformat_minor": 0,
  "metadata": {
    "colab": {
      "provenance": [],
      "collapsed_sections": [],
      "authorship_tag": "ABX9TyOVhybPSp3w5KFXB5D4/3WY",
      "include_colab_link": true
    },
    "kernelspec": {
      "name": "python3",
      "display_name": "Python 3"
    },
    "language_info": {
      "name": "python"
    }
  },
  "cells": [
    {
      "cell_type": "markdown",
      "metadata": {
        "id": "view-in-github",
        "colab_type": "text"
      },
      "source": [
        "<a href=\"https://colab.research.google.com/github/divassya/BigDataAnalysis/blob/main/SparkDF_L6_Class_project.ipynb\" target=\"_parent\"><img src=\"https://colab.research.google.com/assets/colab-badge.svg\" alt=\"Open In Colab\"/></a>"
      ]
    },
    {
      "cell_type": "markdown",
      "source": [
        "#### Info \n",
        "MET CS777 Big Data Analytics\n",
        "\n",
        "Faculty - Farshid Alizadeh-Shabdiz, PhD, MBA\n",
        "\n",
        "Student - Assiya Karatay U95161396 karatay@bu.edu 857-294-7028"
      ],
      "metadata": {
        "id": "w_I9PyUSj_Ch"
      }
    },
    {
      "cell_type": "code",
      "execution_count": 1,
      "metadata": {
        "colab": {
          "base_uri": "https://localhost:8080/"
        },
        "id": "XonO0X9sj-E-",
        "outputId": "35027d72-7c38-4448-b251-4c4c802a73f3"
      },
      "outputs": [
        {
          "output_type": "stream",
          "name": "stdout",
          "text": [
            "\u001b[K     |████████████████████████████████| 212.4 MB 60 kB/s \n",
            "\u001b[K     |████████████████████████████████| 198 kB 48.3 MB/s \n",
            "\u001b[?25h  Building wheel for pyspark (setup.py) ... \u001b[?25l\u001b[?25hdone\n"
          ]
        }
      ],
      "source": [
        "!pip install --ignore-installed -q pyspark==3.1.2 "
      ]
    },
    {
      "cell_type": "code",
      "source": [
        "import os\n",
        "import sys\n",
        "import requests\n",
        "import numpy as np\n",
        "from operator import add\n",
        "import re\n",
        "\n",
        "from numpy import dot\n",
        "from numpy.linalg import norm\n",
        "\n",
        "from pyspark import SparkContext, SQLContext\n",
        "from pyspark.sql import SparkSession,Row\n",
        "from pyspark.sql import functions as f\n",
        "from pyspark.sql.functions import udf, col,monotonically_increasing_id\n",
        "from pyspark.sql.types import *\n",
        "\n",
        "spark = SparkSession.builder.master(\"local[*]\").getOrCreate()\n",
        "sc = SparkContext.getOrCreate()"
      ],
      "metadata": {
        "id": "iUYza6IpkJ-j"
      },
      "execution_count": 5,
      "outputs": []
    },
    {
      "cell_type": "code",
      "source": [
        "#### set up the Google Drive\n",
        "from google.colab import drive\n",
        "drive.mount('/content/drive')"
      ],
      "metadata": {
        "colab": {
          "base_uri": "https://localhost:8080/"
        },
        "id": "1tol9iGokLp5",
        "outputId": "22391a88-7538-4920-9c23-03ac0ef7909a"
      },
      "execution_count": 3,
      "outputs": [
        {
          "output_type": "stream",
          "name": "stdout",
          "text": [
            "Mounted at /content/drive\n"
          ]
        }
      ]
    },
    {
      "cell_type": "code",
      "source": [
        "# choose where project files will be saved\n",
        "project_folder = \"/content/drive/MyDrive/CS777_BigDataAnalytics/class_projects/\"\n",
        "# project_folder = sys.argv[2]\n",
        "# change the OS to use the project folder as the working directory\n",
        "os.chdir(project_folder)\n",
        "\n",
        "print('\\n Working directory was changed to ' + project_folder )"
      ],
      "metadata": {
        "colab": {
          "base_uri": "https://localhost:8080/"
        },
        "id": "5f-PMqdWkNxw",
        "outputId": "dbb9302c-455a-4119-85c7-4598757665c1"
      },
      "execution_count": 4,
      "outputs": [
        {
          "output_type": "stream",
          "name": "stdout",
          "text": [
            "\n",
            " Working directory was changed to /content/drive/MyDrive/CS777_BigDataAnalytics/class_projects/\n"
          ]
        }
      ]
    },
    {
      "cell_type": "code",
      "source": [
        "def mapper(line):\n",
        "  fields = line.split(',')\n",
        "  return Row(ID=int(fields[0]), name=str(fields[1].encode('utf-8')), age=int(fields[2]),grade=int(fields[3]))"
      ],
      "metadata": {
        "id": "DpwTRbtskx_4"
      },
      "execution_count": 6,
      "outputs": []
    },
    {
      "cell_type": "code",
      "source": [
        "lines = sc.textFile(project_folder + 'friends_noHeader.csv')\n",
        "people = lines.map(mapper)\n",
        "people.first()"
      ],
      "metadata": {
        "colab": {
          "base_uri": "https://localhost:8080/"
        },
        "id": "fej29iZkmI7j",
        "outputId": "26678627-e5ef-4141-9049-e93fa5d9bd2c"
      },
      "execution_count": 8,
      "outputs": [
        {
          "output_type": "execute_result",
          "data": {
            "text/plain": [
              "Row(ID=0, name=\"b'Will'\", age=33, grade=385)"
            ]
          },
          "metadata": {},
          "execution_count": 8
        }
      ]
    },
    {
      "cell_type": "code",
      "source": [
        "# Infer the schema\n",
        "schemaPeople = spark.createDataFrame(people).cache()"
      ],
      "metadata": {
        "id": "bwAQNUb7mdxU"
      },
      "execution_count": 9,
      "outputs": []
    },
    {
      "cell_type": "code",
      "source": [
        "# register df as a table\n",
        "schemaPeople.createOrReplaceTempView('students')"
      ],
      "metadata": {
        "id": "_yvscxdVm1zN"
      },
      "execution_count": 10,
      "outputs": []
    },
    {
      "cell_type": "code",
      "source": [
        "# SQL can be run over dataframes that have been registered as a table\n",
        "underGrads = spark.sql('SELECT * FROM students WHERE age >= 19 AND age<=23')"
      ],
      "metadata": {
        "id": "lSSZKjx1m_DO"
      },
      "execution_count": 11,
      "outputs": []
    },
    {
      "cell_type": "code",
      "source": [
        "for underGrad in underGrads.collect():\n",
        "  print(underGrad)"
      ],
      "metadata": {
        "colab": {
          "base_uri": "https://localhost:8080/"
        },
        "id": "XEpiYDjcnTc8",
        "outputId": "78fbc4bc-bf6e-4c91-e857-353d71a9d09f"
      },
      "execution_count": 12,
      "outputs": [
        {
          "output_type": "stream",
          "name": "stdout",
          "text": [
            "Row(ID=16, name=\"b'Weyoun'\", age=22, grade=323)\n",
            "Row(ID=21, name=\"b'Miles'\", age=19, grade=268)\n",
            "Row(ID=25, name=\"b'Ben'\", age=21, grade=445)\n",
            "Row(ID=26, name=\"b'Julian'\", age=22, grade=100)\n",
            "Row(ID=48, name=\"b'Nog'\", age=20, grade=1)\n",
            "Row(ID=52, name=\"b'Beverly'\", age=19, grade=269)\n",
            "Row(ID=54, name=\"b'Brunt'\", age=19, grade=5)\n",
            "Row(ID=60, name=\"b'Geordi'\", age=20, grade=100)\n",
            "Row(ID=66, name=\"b'Geordi'\", age=21, grade=477)\n",
            "Row(ID=72, name=\"b'Kasidy'\", age=22, grade=179)\n",
            "Row(ID=73, name=\"b'Brunt'\", age=20, grade=384)\n",
            "Row(ID=133, name=\"b'Quark'\", age=19, grade=265)\n",
            "Row(ID=136, name=\"b'Will'\", age=19, grade=335)\n",
            "Row(ID=144, name=\"b'Miles'\", age=22, grade=93)\n",
            "Row(ID=173, name=\"b'Leeta'\", age=23, grade=129)\n",
            "Row(ID=200, name=\"b'Kasidy'\", age=21, grade=472)\n",
            "Row(ID=201, name=\"b'Ezri'\", age=23, grade=174)\n",
            "Row(ID=206, name=\"b'Will'\", age=21, grade=491)\n",
            "Row(ID=215, name=\"b'Will'\", age=22, grade=6)\n",
            "Row(ID=225, name=\"b'Elim'\", age=19, grade=106)\n",
            "Row(ID=244, name=\"b'Dukat'\", age=21, grade=471)\n",
            "Row(ID=248, name=\"b'Dukat'\", age=21, grade=138)\n",
            "Row(ID=279, name=\"b'Beverly'\", age=23, grade=133)\n",
            "Row(ID=281, name=\"b'Worf'\", age=21, grade=89)\n",
            "Row(ID=291, name=\"b'Dukat'\", age=23, grade=373)\n",
            "Row(ID=293, name=\"b'Deanna'\", age=23, grade=65)\n",
            "Row(ID=304, name=\"b'Will'\", age=19, grade=404)\n",
            "Row(ID=306, name=\"b'Beverly'\", age=23, grade=323)\n",
            "Row(ID=327, name=\"b'Julian'\", age=20, grade=63)\n",
            "Row(ID=349, name=\"b'Kasidy'\", age=20, grade=277)\n",
            "Row(ID=366, name=\"b'Keiko'\", age=19, grade=119)\n",
            "Row(ID=373, name=\"b'Quark'\", age=19, grade=272)\n",
            "Row(ID=376, name=\"b'Gowron'\", age=23, grade=392)\n",
            "Row(ID=390, name=\"b'Martok'\", age=22, grade=266)\n",
            "Row(ID=394, name=\"b'Keiko'\", age=23, grade=230)\n",
            "Row(ID=403, name=\"b'Weyoun'\", age=21, grade=224)\n",
            "Row(ID=409, name=\"b'Nog'\", age=19, grade=267)\n",
            "Row(ID=462, name=\"b'Nerys'\", age=23, grade=287)\n",
            "Row(ID=484, name=\"b'Leeta'\", age=22, grade=478)\n",
            "Row(ID=492, name=\"b'Dukat'\", age=19, grade=36)\n",
            "Row(ID=493, name=\"b'Hugh'\", age=23, grade=357)\n"
          ]
        }
      ]
    },
    {
      "cell_type": "code",
      "source": [
        "friends = spark.read.format('csv')\\\n",
        ".options(header='true', inferSchema='true', sep=',')\\\n",
        ".load(project_folder + 'friends_withHeader.csv')"
      ],
      "metadata": {
        "id": "8DZD8HyHnaYa"
      },
      "execution_count": 14,
      "outputs": []
    },
    {
      "cell_type": "code",
      "source": [
        "friends.show(2)"
      ],
      "metadata": {
        "colab": {
          "base_uri": "https://localhost:8080/"
        },
        "id": "d1bhcoQwn5mX",
        "outputId": "8c192812-f9dd-4fa3-ed3e-9bb650c374e5"
      },
      "execution_count": 15,
      "outputs": [
        {
          "output_type": "stream",
          "name": "stdout",
          "text": [
            "+------+--------+---+-------+\n",
            "|userID|    name|age|friends|\n",
            "+------+--------+---+-------+\n",
            "|     0|    Will| 33|    385|\n",
            "|     1|Jean-Luc| 26|      2|\n",
            "+------+--------+---+-------+\n",
            "only showing top 2 rows\n",
            "\n"
          ]
        }
      ]
    },
    {
      "cell_type": "code",
      "source": [
        "\n",
        "friends.select(f.avg(\"age\")).show()"
      ],
      "metadata": {
        "colab": {
          "base_uri": "https://localhost:8080/"
        },
        "id": "lhL9FgbOn-pd",
        "outputId": "b5673e84-c0c9-48fe-acf0-54bd32cc5e1f"
      },
      "execution_count": 16,
      "outputs": [
        {
          "output_type": "stream",
          "name": "stdout",
          "text": [
            "+--------+\n",
            "|avg(age)|\n",
            "+--------+\n",
            "|  43.708|\n",
            "+--------+\n",
            "\n"
          ]
        }
      ]
    },
    {
      "cell_type": "code",
      "source": [
        "friends.filter('age < 21').show(2)"
      ],
      "metadata": {
        "colab": {
          "base_uri": "https://localhost:8080/"
        },
        "id": "gECXH7Mqoqvi",
        "outputId": "b5d98957-cff7-4c82-e450-2a05ffa25cc9"
      },
      "execution_count": 19,
      "outputs": [
        {
          "output_type": "stream",
          "name": "stdout",
          "text": [
            "+------+-----+---+-------+\n",
            "|userID| name|age|friends|\n",
            "+------+-----+---+-------+\n",
            "|    21|Miles| 19|    268|\n",
            "|    48|  Nog| 20|      1|\n",
            "+------+-----+---+-------+\n",
            "only showing top 2 rows\n",
            "\n"
          ]
        }
      ]
    },
    {
      "cell_type": "code",
      "source": [
        "friends.groupBy('age').count().show()"
      ],
      "metadata": {
        "colab": {
          "base_uri": "https://localhost:8080/"
        },
        "id": "D2BXYIqvpHk1",
        "outputId": "7b340a47-6db7-4997-cc72-9f59befa04a7"
      },
      "execution_count": 20,
      "outputs": [
        {
          "output_type": "stream",
          "name": "stdout",
          "text": [
            "+---+-----+\n",
            "|age|count|\n",
            "+---+-----+\n",
            "| 31|    8|\n",
            "| 65|    5|\n",
            "| 53|    7|\n",
            "| 34|    6|\n",
            "| 28|   10|\n",
            "| 26|   17|\n",
            "| 27|    8|\n",
            "| 44|   12|\n",
            "| 22|    7|\n",
            "| 47|    9|\n",
            "| 52|   11|\n",
            "| 40|   17|\n",
            "| 20|    5|\n",
            "| 57|   12|\n",
            "| 54|   13|\n",
            "| 48|   10|\n",
            "| 19|   11|\n",
            "| 64|   12|\n",
            "| 41|    9|\n",
            "| 43|    7|\n",
            "+---+-----+\n",
            "only showing top 20 rows\n",
            "\n"
          ]
        }
      ]
    },
    {
      "cell_type": "code",
      "source": [
        "# example 3"
      ],
      "metadata": {
        "id": "_S300FsPp3de"
      },
      "execution_count": 21,
      "outputs": []
    },
    {
      "cell_type": "code",
      "source": [
        "mySchema = StructType([\n",
        "        StructField('id', IntegerType(), True),\n",
        "             StructField('name', StringType(), True),\n",
        "             StructField('age', IntegerType(), True),\n",
        "             StructField('grade', IntegerType(), True)\n",
        "             ])"
      ],
      "metadata": {
        "id": "4REIWUSEsJ9z"
      },
      "execution_count": 38,
      "outputs": []
    },
    {
      "cell_type": "code",
      "source": [
        "friendsNoHeader = spark.read.options(header='false', schema=mySchema, sep=',')\\\n",
        ".csv(project_folder + 'friends_noHeader.csv')\n",
        "friendsNoHeader.show()"
      ],
      "metadata": {
        "colab": {
          "base_uri": "https://localhost:8080/"
        },
        "id": "7yoPsR3YqBZJ",
        "outputId": "09fb87d9-51e9-4c6c-ffdc-baab33218c8e"
      },
      "execution_count": 39,
      "outputs": [
        {
          "output_type": "stream",
          "name": "stdout",
          "text": [
            "+---+--------+---+---+\n",
            "|_c0|     _c1|_c2|_c3|\n",
            "+---+--------+---+---+\n",
            "|  0|    Will| 33|385|\n",
            "|  1|Jean-Luc| 26|  2|\n",
            "|  2|    Hugh| 55|221|\n",
            "|  3|  Deanna| 40|465|\n",
            "|  4|   Quark| 68| 21|\n",
            "|  5|  Weyoun| 59|318|\n",
            "|  6|  Gowron| 37|220|\n",
            "|  7|    Will| 54|307|\n",
            "|  8|  Jadzia| 38|380|\n",
            "|  9|    Hugh| 27|181|\n",
            "| 10|     Odo| 53|191|\n",
            "| 11|     Ben| 57|372|\n",
            "| 12|   Keiko| 54|253|\n",
            "| 13|Jean-Luc| 56|444|\n",
            "| 14|    Hugh| 43| 49|\n",
            "| 15|     Rom| 36| 49|\n",
            "| 16|  Weyoun| 22|323|\n",
            "| 17|     Odo| 35| 13|\n",
            "| 18|Jean-Luc| 45|455|\n",
            "| 19|  Geordi| 60|246|\n",
            "+---+--------+---+---+\n",
            "only showing top 20 rows\n",
            "\n"
          ]
        }
      ]
    },
    {
      "cell_type": "markdown",
      "source": [],
      "metadata": {
        "id": "AANwGlw2skDj"
      }
    },
    {
      "cell_type": "code",
      "source": [
        "friendsNoHeader.filter('_c2 > 12 and _c2 <20').select('_c1').show()"
      ],
      "metadata": {
        "colab": {
          "base_uri": "https://localhost:8080/"
        },
        "id": "aPwj7w5Eqe0t",
        "outputId": "1434dbcf-605a-486a-b89d-55353b3eea52"
      },
      "execution_count": 35,
      "outputs": [
        {
          "output_type": "stream",
          "name": "stdout",
          "text": [
            "+-------+\n",
            "|    _c1|\n",
            "+-------+\n",
            "|  Miles|\n",
            "|Beverly|\n",
            "|  Brunt|\n",
            "|Beverly|\n",
            "|  Dukat|\n",
            "|  Quark|\n",
            "|   Will|\n",
            "|   Elim|\n",
            "|   Will|\n",
            "|   Data|\n",
            "|  Keiko|\n",
            "|  Quark|\n",
            "|Beverly|\n",
            "| Kasidy|\n",
            "|    Nog|\n",
            "|   Data|\n",
            "|  Keiko|\n",
            "|  Dukat|\n",
            "| Kasidy|\n",
            "+-------+\n",
            "\n"
          ]
        }
      ]
    },
    {
      "cell_type": "markdown",
      "source": [
        "Example 4"
      ],
      "metadata": {
        "id": "ZorRWu40uVxS"
      }
    },
    {
      "cell_type": "code",
      "source": [
        "ius = spark.read.format('csv')\\\n",
        ".options(header='true', inferSchema='true', sep=',')\\\n",
        ".load(project_folder + 'InstagramUserStats_withHeader.csv')"
      ],
      "metadata": {
        "id": "3HsNLcw-rlj9"
      },
      "execution_count": 41,
      "outputs": []
    },
    {
      "cell_type": "code",
      "source": [
        "ius.show(2)"
      ],
      "metadata": {
        "colab": {
          "base_uri": "https://localhost:8080/"
        },
        "id": "yqRLFEiSumKr",
        "outputId": "d128b859-be5b-45db-a7b2-f843b7be2a7a"
      },
      "execution_count": 42,
      "outputs": [
        {
          "output_type": "stream",
          "name": "stdout",
          "text": [
            "+------+-----+---------+---------+---------------+--------------+---------------+-------------------+\n",
            "|UserId|posts|followers|following|EngagementGrade|EngagementRate|FollowersGrowth|OutsidersPercentage|\n",
            "+------+-----+---------+---------+---------------+--------------+---------------+-------------------+\n",
            "|     1|  702|      906|      677|         0.1891|       6.07064|        1.17786|            14.8936|\n",
            "|     2|  160|      386|      713|          0.195|        6.2608|      0.0941265|            16.9811|\n",
            "+------+-----+---------+---------+---------------+--------------+---------------+-------------------+\n",
            "only showing top 2 rows\n",
            "\n"
          ]
        }
      ]
    },
    {
      "cell_type": "code",
      "source": [
        "grouped_ius = ius.withColumn('postGroup',ius['posts']/100).select('postGroup', 'followers', 'following')"
      ],
      "metadata": {
        "id": "ffduz5nUuqll"
      },
      "execution_count": 47,
      "outputs": []
    },
    {
      "cell_type": "code",
      "source": [
        "grouped_ius.printSchema()"
      ],
      "metadata": {
        "colab": {
          "base_uri": "https://localhost:8080/"
        },
        "id": "urDbnZx8u07o",
        "outputId": "8fb7ca67-00f6-41f9-de0a-ae3f52e48d81"
      },
      "execution_count": 48,
      "outputs": [
        {
          "output_type": "stream",
          "name": "stdout",
          "text": [
            "root\n",
            " |-- postGroup: double (nullable = true)\n",
            " |-- followers: integer (nullable = true)\n",
            " |-- following: integer (nullable = true)\n",
            "\n"
          ]
        }
      ]
    },
    {
      "cell_type": "code",
      "source": [
        "grouped_ius.groupby('postGroup').avg(\"followers\").show()"
      ],
      "metadata": {
        "colab": {
          "base_uri": "https://localhost:8080/"
        },
        "id": "soTmmQ_-vf7T",
        "outputId": "2619c3f1-cf72-4a12-b3fb-2f89354e3ea9"
      },
      "execution_count": 51,
      "outputs": [
        {
          "output_type": "stream",
          "name": "stdout",
          "text": [
            "+---------+------------------+\n",
            "|postGroup|    avg(followers)|\n",
            "+---------+------------------+\n",
            "|     8.51| 4493.444444444444|\n",
            "|     0.66| 836.9041666666667|\n",
            "|     2.86|5842.2972972972975|\n",
            "|     3.26|2087.8055555555557|\n",
            "|     9.13| 5488.666666666667|\n",
            "|     13.4|            2000.0|\n",
            "|     5.86| 2255.923076923077|\n",
            "|     6.96|            1334.0|\n",
            "|     1.82|1279.2698412698412|\n",
            "|     9.55|           4550.25|\n",
            "|    147.0|          269800.0|\n",
            "|     0.07| 575.7912431587177|\n",
            "|      2.4|2350.4565217391305|\n",
            "|     0.84| 1080.185628742515|\n",
            "|     5.78|            3789.7|\n",
            "|     4.19|            2149.0|\n",
            "|     5.05|3283.5714285714284|\n",
            "|    24.96|            1200.0|\n",
            "|     8.73|1245.3333333333333|\n",
            "|     9.72|            1047.0|\n",
            "+---------+------------------+\n",
            "only showing top 20 rows\n",
            "\n"
          ]
        }
      ]
    },
    {
      "cell_type": "code",
      "source": [
        "grouped_ius.groupby('postGroup').avg(\"followers\").show()"
      ],
      "metadata": {
        "id": "2fIsRLVawOca"
      },
      "execution_count": null,
      "outputs": []
    }
  ]
}