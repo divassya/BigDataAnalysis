{
  "nbformat": 4,
  "nbformat_minor": 0,
  "metadata": {
    "colab": {
      "provenance": [],
      "authorship_tag": "ABX9TyN89AejTcj3Ca9DHGdrK8p8",
      "include_colab_link": true
    },
    "kernelspec": {
      "name": "python3",
      "display_name": "Python 3"
    },
    "language_info": {
      "name": "python"
    }
  },
  "cells": [
    {
      "cell_type": "markdown",
      "metadata": {
        "id": "view-in-github",
        "colab_type": "text"
      },
      "source": [
        "<a href=\"https://colab.research.google.com/github/divassya/BigDataAnalysis/blob/main/Spark_transformations_and_actions.ipynb\" target=\"_parent\"><img src=\"https://colab.research.google.com/assets/colab-badge.svg\" alt=\"Open In Colab\"/></a>"
      ]
    },
    {
      "cell_type": "markdown",
      "source": [
        "#### Info \n",
        "Assignment 1\n",
        "MET CS777 Big Data Analytics\n",
        "\n",
        "Faculty - Farshid Alizadeh-Shabdiz, PhD, MBA\n",
        "\n",
        "Student - Assiya Karatay U95161396 karatay@bu.edu 857-294-7028"
      ],
      "metadata": {
        "id": "J-L7akFAUTVl"
      }
    },
    {
      "cell_type": "code",
      "execution_count": 1,
      "metadata": {
        "colab": {
          "base_uri": "https://localhost:8080/"
        },
        "id": "VWmkUpIzUKYM",
        "outputId": "00dfc176-5c17-4681-9d35-85db68b0813c"
      },
      "outputs": [
        {
          "output_type": "stream",
          "name": "stdout",
          "text": [
            "\u001b[K     |████████████████████████████████| 212.4 MB 61 kB/s \n",
            "\u001b[K     |████████████████████████████████| 198 kB 49.5 MB/s \n",
            "\u001b[?25h  Building wheel for pyspark (setup.py) ... \u001b[?25l\u001b[?25hdone\n"
          ]
        }
      ],
      "source": [
        "!pip install --ignore-installed -q pyspark==3.1.2 "
      ]
    },
    {
      "cell_type": "code",
      "source": [
        "# Set JAVA_HOME and SPARK_HOME\n",
        "import os\n",
        "# os.environ[\"JAVA_HOME\"] = \"/usr/lib/jvm/java-11-openjdk-amd64\"\n",
        "# os.environ[\"SPARK_HOME\"] = \"spark-3.0.1-bin-hadoop3.2\"\n",
        "\n",
        "# import findspark\n",
        "# findspark.init(\"spark-3.0.1-bin-hadoop3.2\")# SPARK_HOME\n",
        "\n",
        "\n",
        "import sys\n",
        "import requests\n",
        "from operator import add\n",
        "import pandas as pd\n",
        "\n",
        "\n",
        "from pyspark import SparkConf,SparkContext\n",
        "from pyspark.streaming import StreamingContext\n",
        "\n",
        "from pyspark.sql import SparkSession\n",
        "from pyspark.sql import SQLContext\n",
        "\n",
        "spark = SparkSession.builder.master(\"local[*]\").getOrCreate()\n",
        "sc = SparkContext.getOrCreate()"
      ],
      "metadata": {
        "id": "Oggli2sUUUB7"
      },
      "execution_count": 2,
      "outputs": []
    },
    {
      "cell_type": "markdown",
      "source": [
        "### RDD transformations\n",
        "#### map(func)\n",
        "map(func) – returns a new distributed dataset formed by passing each\n",
        "element of the source through a function “func”\n",
        "Sample example\n",
        "Starting with constant array of numbers\n",
        "Use map and square them\n",
        "Ø rdd = sc.parallelize([1, 2, 3, 4 ])\n",
        "Ø rdd.map(lambda x:x*x)\n",
        "Ø This yields 1, 4, 9, and 16"
      ],
      "metadata": {
        "id": "AftB5rqPUjDM"
      }
    },
    {
      "cell_type": "code",
      "source": [
        "rdd = sc.parallelize([1, 2, 3, 4 ])\n",
        "rdd.map(lambda x:x*x).collect()"
      ],
      "metadata": {
        "colab": {
          "base_uri": "https://localhost:8080/"
        },
        "id": "v7XRdWbWUn9C",
        "outputId": "7f6f8c8e-fd82-4346-90e8-847e60bbc377"
      },
      "execution_count": 4,
      "outputs": [
        {
          "output_type": "execute_result",
          "data": {
            "text/plain": [
              "[1, 4, 9, 16]"
            ]
          },
          "metadata": {},
          "execution_count": 4
        }
      ]
    },
    {
      "cell_type": "markdown",
      "source": [
        "#### filter"
      ],
      "metadata": {
        "id": "T5-nEbuEUwpb"
      }
    },
    {
      "cell_type": "code",
      "source": [
        "rdd.filter(lambda x: x%2 == 0).collect()"
      ],
      "metadata": {
        "colab": {
          "base_uri": "https://localhost:8080/"
        },
        "id": "LPKZWXKhUxAV",
        "outputId": "42ce6c10-331d-4e96-97f6-8160b9233c7a"
      },
      "execution_count": 5,
      "outputs": [
        {
          "output_type": "execute_result",
          "data": {
            "text/plain": [
              "[2, 4]"
            ]
          },
          "metadata": {},
          "execution_count": 5
        }
      ]
    },
    {
      "cell_type": "markdown",
      "source": [
        "#### flatMap(func)"
      ],
      "metadata": {
        "id": "ZCqh_3j8UxZu"
      }
    },
    {
      "cell_type": "code",
      "source": [
        "sorted(rdd.flatMap(lambda x:range(1,x)).collect())"
      ],
      "metadata": {
        "colab": {
          "base_uri": "https://localhost:8080/"
        },
        "id": "TjUs3p99UxpK",
        "outputId": "a48141f5-eec5-4246-81d6-4560d7b50b5a"
      },
      "execution_count": 6,
      "outputs": [
        {
          "output_type": "execute_result",
          "data": {
            "text/plain": [
              "[1, 1, 1, 2, 2, 3]"
            ]
          },
          "metadata": {},
          "execution_count": 6
        }
      ]
    },
    {
      "cell_type": "markdown",
      "source": [
        "#### union(rdd)"
      ],
      "metadata": {
        "id": "Ee-B7mAwVgk9"
      }
    },
    {
      "cell_type": "code",
      "source": [
        "rdd.union(rdd).collect()"
      ],
      "metadata": {
        "colab": {
          "base_uri": "https://localhost:8080/"
        },
        "id": "LzXGeNcaVU3a",
        "outputId": "fe2d39f2-5449-4b64-9821-6333bfad208f"
      },
      "execution_count": 7,
      "outputs": [
        {
          "output_type": "execute_result",
          "data": {
            "text/plain": [
              "[1, 2, 3, 4, 1, 2, 3, 4]"
            ]
          },
          "metadata": {},
          "execution_count": 7
        }
      ]
    },
    {
      "cell_type": "markdown",
      "source": [
        "distinct([numPartitions])"
      ],
      "metadata": {
        "id": "c0c1casyVscO"
      }
    },
    {
      "cell_type": "code",
      "source": [
        "sorted(rdd.distinct().collect())"
      ],
      "metadata": {
        "colab": {
          "base_uri": "https://localhost:8080/"
        },
        "id": "lO2i6QiHVmb3",
        "outputId": "b8078b89-a4c2-4025-8b84-96991108633e"
      },
      "execution_count": 8,
      "outputs": [
        {
          "output_type": "execute_result",
          "data": {
            "text/plain": [
              "[1, 2, 3, 4]"
            ]
          },
          "metadata": {},
          "execution_count": 8
        }
      ]
    },
    {
      "cell_type": "markdown",
      "source": [
        "#### join() # requires expensive shuffle\n",
        "cogroup()\n",
        "#### cartesian() can be used for for loop\n",
        "output of this tranformation will be paralelized and other functions are implemented as in a loop\n"
      ],
      "metadata": {
        "id": "SCZfIiVqWFPR"
      }
    },
    {
      "cell_type": "code",
      "source": [
        "rdd.cartesian(rdd).collect()"
      ],
      "metadata": {
        "colab": {
          "base_uri": "https://localhost:8080/"
        },
        "id": "gmyGhdfBV6Ce",
        "outputId": "129fd280-950b-443f-a46e-01976c1640d3"
      },
      "execution_count": 9,
      "outputs": [
        {
          "output_type": "execute_result",
          "data": {
            "text/plain": [
              "[(1, 1),\n",
              " (1, 2),\n",
              " (2, 1),\n",
              " (2, 2),\n",
              " (1, 3),\n",
              " (1, 4),\n",
              " (2, 3),\n",
              " (2, 4),\n",
              " (3, 1),\n",
              " (3, 2),\n",
              " (4, 1),\n",
              " (4, 2),\n",
              " (3, 3),\n",
              " (3, 4),\n",
              " (4, 3),\n",
              " (4, 4)]"
            ]
          },
          "metadata": {},
          "execution_count": 9
        }
      ]
    },
    {
      "cell_type": "code",
      "source": [
        "### "
      ],
      "metadata": {
        "id": "5SiranqXWEa8"
      },
      "execution_count": null,
      "outputs": []
    },
    {
      "cell_type": "markdown",
      "source": [
        "### RDD Actions\n",
        "#### reduce(func)\n",
        "#### collect()\n",
        "#### count()\n",
        "#### first()\n",
        "#### take(num)\n",
        "#### top(num)\n",
        "\n"
      ],
      "metadata": {
        "id": "7Al-D3zGWiYQ"
      }
    },
    {
      "cell_type": "code",
      "source": [
        "rdd.count()"
      ],
      "metadata": {
        "colab": {
          "base_uri": "https://localhost:8080/"
        },
        "id": "kYHpe2DQWkBc",
        "outputId": "2307a563-0259-4858-971b-1d9265fd89e7"
      },
      "execution_count": 10,
      "outputs": [
        {
          "output_type": "execute_result",
          "data": {
            "text/plain": [
              "4"
            ]
          },
          "metadata": {},
          "execution_count": 10
        }
      ]
    },
    {
      "cell_type": "code",
      "source": [
        "rdd.first()"
      ],
      "metadata": {
        "colab": {
          "base_uri": "https://localhost:8080/"
        },
        "id": "JAaAMtC1W4AG",
        "outputId": "efb6bed8-9bfa-4bcc-8831-2430639637c0"
      },
      "execution_count": 11,
      "outputs": [
        {
          "output_type": "execute_result",
          "data": {
            "text/plain": [
              "1"
            ]
          },
          "metadata": {},
          "execution_count": 11
        }
      ]
    },
    {
      "cell_type": "code",
      "source": [
        "rdd.take(2)"
      ],
      "metadata": {
        "colab": {
          "base_uri": "https://localhost:8080/"
        },
        "id": "Y3-Fa_LiW8FN",
        "outputId": "761f748b-668b-4177-bc88-b6ea5c8b971f"
      },
      "execution_count": 12,
      "outputs": [
        {
          "output_type": "execute_result",
          "data": {
            "text/plain": [
              "[1, 2]"
            ]
          },
          "metadata": {},
          "execution_count": 12
        }
      ]
    },
    {
      "cell_type": "markdown",
      "source": [
        "#### foreach(func) "
      ],
      "metadata": {
        "id": "cnylwke0XEqU"
      }
    },
    {
      "cell_type": "code",
      "source": [
        "def f1(x):\n",
        "  print(x)\n",
        "rdd.foreach(f1)"
      ],
      "metadata": {
        "id": "LbxIR6pRW6X5"
      },
      "execution_count": 16,
      "outputs": []
    },
    {
      "cell_type": "markdown",
      "source": [
        "#### countByKey() & countByValue()"
      ],
      "metadata": {
        "id": "17hEb_iQXasP"
      }
    },
    {
      "cell_type": "code",
      "source": [
        "rdd2 = sc.parallelize([('a',1),('b', 1),('a',1)])\n",
        "rdd2.countByKey().items()"
      ],
      "metadata": {
        "colab": {
          "base_uri": "https://localhost:8080/"
        },
        "id": "9D1C3J4rXN7Q",
        "outputId": "e667eb08-6734-43d0-989b-060ee8e68e96"
      },
      "execution_count": 18,
      "outputs": [
        {
          "output_type": "execute_result",
          "data": {
            "text/plain": [
              "dict_items([('a', 2), ('b', 1)])"
            ]
          },
          "metadata": {},
          "execution_count": 18
        }
      ]
    },
    {
      "cell_type": "code",
      "source": [
        "rdd.countByValue().items()"
      ],
      "metadata": {
        "colab": {
          "base_uri": "https://localhost:8080/"
        },
        "id": "y4vG6aSaXjwx",
        "outputId": "cbc0b83d-421e-4fbe-d404-67accd4ddc82"
      },
      "execution_count": 22,
      "outputs": [
        {
          "output_type": "execute_result",
          "data": {
            "text/plain": [
              "dict_items([(1, 1), (2, 1), (3, 1), (4, 1)])"
            ]
          },
          "metadata": {},
          "execution_count": 22
        }
      ]
    },
    {
      "cell_type": "markdown",
      "source": [
        "#### saveAsTextFile(path)\n",
        "#### reduceByKey(func)"
      ],
      "metadata": {
        "id": "NT4Ck3KOYcdU"
      }
    },
    {
      "cell_type": "code",
      "source": [
        "%timeit rdd2.reduceByKey(lambda a,b: a+b)\n",
        "# takes top 2 by the counted second value of a pair"
      ],
      "metadata": {
        "colab": {
          "base_uri": "https://localhost:8080/"
        },
        "id": "mxzo_L21YIhv",
        "outputId": "52ae03f8-75ea-4580-ad7e-f7b5c6ffb79b"
      },
      "execution_count": 31,
      "outputs": [
        {
          "output_type": "stream",
          "name": "stdout",
          "text": [
            "11.7 ms ± 236 µs per loop (mean ± std. dev. of 7 runs, 100 loops each)\n"
          ]
        }
      ]
    },
    {
      "cell_type": "code",
      "source": [
        "rdd2.reduceByKey(lambda a,b: a+b).top(2, lambda p: p[1]) \n"
      ],
      "metadata": {
        "colab": {
          "base_uri": "https://localhost:8080/"
        },
        "id": "7JtFMyvXbxoH",
        "outputId": "da49baac-6779-451c-fd30-ac6a9dc36f9b"
      },
      "execution_count": 32,
      "outputs": [
        {
          "output_type": "execute_result",
          "data": {
            "text/plain": [
              "[('a', 2), ('b', 1)]"
            ]
          },
          "metadata": {},
          "execution_count": 32
        }
      ]
    },
    {
      "cell_type": "markdown",
      "source": [
        "#### groupByKey\n",
        "* data must (key,value) pair\n",
        "* shuffles everything on same machine and then adds up\n",
        "* like reduceByKey() but without reducing\n",
        "* try to avoid because it is expensive\n",
        "#### sortByKey\n",
        "do not use it\n"
      ],
      "metadata": {
        "id": "7LrIphdub6ng"
      }
    },
    {
      "cell_type": "code",
      "source": [
        "%timeit rdd2.groupByKey()"
      ],
      "metadata": {
        "colab": {
          "base_uri": "https://localhost:8080/"
        },
        "id": "1buw_bl2ZLFK",
        "outputId": "59339da3-9c13-4f2a-99a8-f635b2d87b97"
      },
      "execution_count": 35,
      "outputs": [
        {
          "output_type": "stream",
          "name": "stdout",
          "text": [
            "11.7 ms ± 202 µs per loop (mean ± std. dev. of 7 runs, 100 loops each)\n"
          ]
        }
      ]
    },
    {
      "cell_type": "markdown",
      "source": [
        "#### AggregateByKey()\n",
        "has the 'zero' to init the aggregation\n",
        "diff agg functions can be used"
      ],
      "metadata": {
        "id": "ZHwTii40c83F"
      }
    },
    {
      "cell_type": "code",
      "source": [],
      "metadata": {
        "id": "2BmmJ9Rsc7um"
      },
      "execution_count": null,
      "outputs": []
    },
    {
      "cell_type": "code",
      "source": [],
      "metadata": {
        "id": "1HpiNFBjbi97"
      },
      "execution_count": null,
      "outputs": []
    }
  ]
}